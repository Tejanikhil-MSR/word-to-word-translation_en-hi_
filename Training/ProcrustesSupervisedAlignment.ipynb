{
 "cells": [
  {
   "cell_type": "code",
   "execution_count": 13,
   "id": "e8d27c83",
   "metadata": {},
   "outputs": [],
   "source": [
    "import fasttext\n",
    "import numpy as np\n",
    "from sklearn.metrics.pairwise import cosine_similarity"
   ]
  },
  {
   "cell_type": "code",
   "execution_count": 3,
   "id": "29f45393",
   "metadata": {},
   "outputs": [],
   "source": [
    "vocab_limit = 10000\n",
    "\n",
    "model_hi = fasttext.load_model(r\"custom_models/model_hi.bin\")\n",
    "model_en = fasttext.load_model(r\"custom_models/model_en.bin\")\n",
    "\n",
    "hi_words = model_hi.get_words()[:vocab_limit]\n",
    "en_words = model_en.get_words()[:vocab_limit]\n",
    "\n",
    "hi_word_embeddings = [model_hi.get_word_vector(word) for word in hi_words]\n",
    "en_word_embeddings = [model_en.get_word_vector(word) for word in en_words]"
   ]
  },
  {
   "cell_type": "code",
   "execution_count": 4,
   "id": "d42e3091",
   "metadata": {},
   "outputs": [
    {
     "name": "stdout",
     "output_type": "stream",
     "text": [
      "Number of hi words taken : 10000\n",
      "Number of en words taken : 10000\n",
      "Size of the hi word embedding : 100\n",
      "Size of the en word embedding : 100\n"
     ]
    }
   ],
   "source": [
    "print(f\"Number of hi words taken : {len(hi_words)}\")\n",
    "print(f\"Number of en words taken : {len(en_words)}\")\n",
    "print(f\"Size of the hi word embedding : {len(hi_word_embeddings[0])}\")\n",
    "print(f\"Size of the en word embedding : {len(en_word_embeddings[0])}\")"
   ]
  },
  {
   "cell_type": "code",
   "execution_count": 10,
   "id": "7338b099",
   "metadata": {},
   "outputs": [],
   "source": [
    "# Loading the muse en_hi parallel corpus dictionary\n",
    "def create_dict(file_path, size=5000):\n",
    "    en_hi = {}\n",
    "    with open(file_path, \"r\", encoding=\"utf-8\") as f:\n",
    "        for line in f:\n",
    "            en, hi = line.strip().split()\n",
    "            en_hi[en] = hi\n",
    "            if(len(en_hi)==size):\n",
    "                break\n",
    "                \n",
    "    return en_hi"
   ]
  },
  {
   "cell_type": "code",
   "execution_count": 11,
   "id": "e45500d1",
   "metadata": {},
   "outputs": [],
   "source": [
    "muse_translation_dict = create_dict(r\"../GeneratedDatasets/muse_crosslingual_en_hi/en-hi.txt\")"
   ]
  },
  {
   "cell_type": "code",
   "execution_count": 14,
   "id": "f3999c9f",
   "metadata": {},
   "outputs": [],
   "source": [
    "class procrustus_translator:\n",
    "    \n",
    "    \"\"\"\n",
    "    A class for aligning English and Hindi word embeddings using Procrustes analysis.\n",
    "    This class utilizes a bilingual dictionary (MUSE) to learn a mapping between\n",
    "    English and Hindi embeddings and enables translation between the two languages.\n",
    "    \"\"\"\n",
    "    \n",
    "    def __init__(self, model_en, model_hi, muse_dict, src_lang=\"en\", tar_lang=\"hi\"):\n",
    "        \"\"\"\n",
    "        Initializes the Procrustes translator with source and target language models.\n",
    "        \n",
    "        Parameters:\n",
    "        - model_en: The fasttext model for English.\n",
    "        - model_hi: The fasttext model for Hindi.\n",
    "        - muse_dict: A dictionary containing English-Hindi word pairs for training.\n",
    "        - src_lang: Source language (default: \"en\").\n",
    "        - tar_lang: Target language (default: \"hi\").\n",
    "        \n",
    "        Raises:\n",
    "        - RuntimeError if the embedding dimensions of the models do not match.\n",
    "        \"\"\"\n",
    "        self.model_en = model_en\n",
    "        self.model_hi = model_hi  \n",
    "        self.en_word_embeddings = [(word,model_en.get_word_vector(word)) for word in self.model_en.get_words()]\n",
    "        self.hi_word_embeddings = [(word,model_hi.get_word_vector(word)) for word in self.model_hi.get_words()]\n",
    "        self.src_lang = src_lang\n",
    "        self.tar_lang = tar_lang\n",
    "        \n",
    "        self.procrusted_training_dataset = muse_dict\n",
    "        \n",
    "        if model_en.get_dimension() != model_hi.get_dimension():\n",
    "            raise RuntimeError(\"Mismatch of model embedding dimensions\")\n",
    "        else:\n",
    "            self.embedding_dimension = model_en.get_dimension()\n",
    "        \n",
    "        self.weight_matrix = np.zeros((self.embedding_dimension, self.embedding_dimension))\n",
    "    \n",
    "    def perform_supervised_alignment(self):\n",
    "        \"\"\"\n",
    "        Performs supervised alignment using the MUSE bilingual dictionary.\n",
    "        Learns the transformation matrix to map English embeddings to Hindi embeddings.\n",
    "        \"\"\"\n",
    "        print(f\"Model is learning on dataset of size : {len(self.procrusted_training_dataset)}\")\n",
    "        \n",
    "        input_matrix = []\n",
    "        output_matrix = []\n",
    "        \n",
    "        for en, hi in zip(self.procrusted_training_dataset.keys(), self.procrusted_training_dataset.values()):\n",
    "            input_matrix.append(model_en.get_word_vector(en))\n",
    "            output_matrix.append(model_hi.get_word_vector(hi))\n",
    "            \n",
    "        # Compute Singular Value Decomposition (SVD) to ensure orthogonality\n",
    "        U, _, V_t = np.linalg.svd(np.array(input_matrix).T @ np.array(output_matrix))\n",
    "        self.weight_matrix = U @ V_t\n",
    "    \n",
    "    def learn(self):\n",
    "        \"\"\"\n",
    "        Trains the translator by computing the supervised alignment matrix.\n",
    "        \n",
    "        Returns:\n",
    "        - weight_matrix: The learned transformation matrix.\n",
    "        \"\"\"\n",
    "        self.perform_supervised_alignment()\n",
    "        return self.weight_matrix\n",
    "    \n",
    "    def get_similarities(self, word_embedding, tar_word_embedding_pairs):\n",
    "        \"\"\"\n",
    "        Computes cosine similarities between a given word embedding and a list of target embeddings.\n",
    "        \n",
    "        Parameters:\n",
    "        - word_embedding: The word vector whose similarities need to be found.\n",
    "        - list_of_tar_embeddings: A list of target language word embeddings.\n",
    "        \n",
    "        Returns:\n",
    "        - A dictionary mapping (English, Hindi) word pairs to their similarity scores.\n",
    "        \"\"\"\n",
    "        similarities = {}\n",
    "        for pair in tar_word_embedding_pairs:\n",
    "            if self.tar_lang == \"hi\":\n",
    "                similarities[(word_embedding[0], pair[0])] = cosine_similarity(pair[1].reshape(1, -1), word_embedding[1].reshape(1, -1))[0][0]\n",
    "\n",
    "        \n",
    "        return similarities\n",
    "    \n",
    "    def translate(self, src_word, lang=\"en\"):\n",
    "        \"\"\"\n",
    "        Translates a given word from the source language to the target language using learned embeddings.\n",
    "        \n",
    "        Parameters:\n",
    "        - src_word: The source language word to be translated.\n",
    "        - lang: The source language (default: \"en\").\n",
    "        \n",
    "        Returns:\n",
    "        - A list of the top 5 translated words with their similarity scores.\n",
    "        \n",
    "        Raises:\n",
    "        - RuntimeError if the translator is not trained.\n",
    "        - Prints a message if the word is not found in the dictionary.\n",
    "        \"\"\"\n",
    "        if np.array_equal(self.weight_matrix, np.zeros((self.embedding_dimension, self.embedding_dimension))):\n",
    "            raise RuntimeError(\"The translator is not yet trained!!!\")\n",
    "        \n",
    "        if src_word not in self.procrusted_training_dataset.keys():\n",
    "            print(\"{src_word} not in the training vocab\")\n",
    "        \n",
    "        \n",
    "        src_word_embedding = self.model_en.get_word_vector(src_word).reshape(1, -1)\n",
    "        \n",
    "        # Compute cosine similarities\n",
    "        similarities = self.get_similarities((src_word, src_word_embedding), self.hi_word_embeddings)\n",
    "        \n",
    "        # Get top 5 translations\n",
    "        top5_translations = sorted(similarities.items(), key=lambda x: x[1], reverse=True)[:5]\n",
    "        \n",
    "        return top5_translations\n",
    "    \n",
    "    def precision(self, k):\n",
    "        \"\"\"\n",
    "        Computes the precision@k metric for the learned translation model.\n",
    "        \n",
    "        Parameters:\n",
    "        - k: The number of top translations to consider.\n",
    "        \n",
    "        Returns:\n",
    "        - The precision score (correct translations / total translations).\n",
    "        \"\"\"\n",
    "        correct = 0\n",
    "        total = len(self.procrusted_training_dataset)\n",
    "        for en, hi in zip(self.procrusted_training_dataset.keys(), self.procrusted_training_dataset.values()):\n",
    "            translations = self.translate(en)\n",
    "            if translations and hi in translations[:k]:\n",
    "                correct += 1\n",
    "        \n",
    "        return correct / total"
   ]
  },
  {
   "cell_type": "code",
   "execution_count": 15,
   "id": "f4e671f6",
   "metadata": {},
   "outputs": [],
   "source": [
    "procrustes_supervised_translator = procrustus_translator(model_en, model_hi, muse_translation_dict, src_lang=\"en\", tar_lang=\"hi\")"
   ]
  },
  {
   "cell_type": "code",
   "execution_count": 16,
   "id": "40a0c562",
   "metadata": {},
   "outputs": [
    {
     "name": "stdout",
     "output_type": "stream",
     "text": [
      "Model is learning on dataset of size : 5000\n"
     ]
    },
    {
     "data": {
      "text/plain": [
       "array([[-0.05193185,  0.16521043,  0.0343516 , ..., -0.02397818,\n",
       "        -0.0683019 , -0.24644776],\n",
       "       [ 0.13109136, -0.03024459, -0.07767946, ..., -0.14254892,\n",
       "         0.1372539 , -0.01911986],\n",
       "       [-0.13397343,  0.06077599, -0.00959932, ...,  0.02448976,\n",
       "         0.04303467,  0.03722524],\n",
       "       ...,\n",
       "       [-0.06042289, -0.11947133, -0.03281769, ...,  0.00999218,\n",
       "        -0.0825316 , -0.171745  ],\n",
       "       [-0.03781443, -0.00443011, -0.03459901, ..., -0.04645555,\n",
       "         0.08636618, -0.0939327 ],\n",
       "       [-0.00826651, -0.21888988,  0.01904887, ...,  0.02228175,\n",
       "         0.01739142, -0.1775483 ]], dtype=float32)"
      ]
     },
     "execution_count": 16,
     "metadata": {},
     "output_type": "execute_result"
    }
   ],
   "source": [
    "procrustes_supervised_translator.learn()"
   ]
  },
  {
   "cell_type": "code",
   "execution_count": null,
   "id": "1ddd32c5",
   "metadata": {},
   "outputs": [],
   "source": [
    "print(f\"Precision@1: {procrustes_supervised_translator.precision(1)}\")"
   ]
  },
  {
   "cell_type": "code",
   "execution_count": null,
   "id": "de0cf6b2",
   "metadata": {},
   "outputs": [],
   "source": [
    "print(f\"Precision@5: {procrustes_supervised_translator.precision(5)}\")"
   ]
  },
  {
   "cell_type": "code",
   "execution_count": null,
   "id": "e90b7406",
   "metadata": {},
   "outputs": [],
   "source": []
  }
 ],
 "metadata": {
  "kernelspec": {
   "display_name": "procrustes",
   "language": "python",
   "name": "python3"
  },
  "language_info": {
   "codemirror_mode": {
    "name": "ipython",
    "version": 3
   },
   "file_extension": ".py",
   "mimetype": "text/x-python",
   "name": "python",
   "nbconvert_exporter": "python",
   "pygments_lexer": "ipython3",
   "version": "3.10.16"
  }
 },
 "nbformat": 4,
 "nbformat_minor": 5
}
