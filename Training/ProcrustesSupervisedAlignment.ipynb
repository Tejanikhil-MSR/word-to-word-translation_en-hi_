{
 "cells": [
  {
   "cell_type": "code",
   "execution_count": 16,
   "id": "e8d27c83",
   "metadata": {},
   "outputs": [],
   "source": [
    "import fasttext\n",
    "import numpy as np\n",
    "from sklearn.metrics.pairwise import cosine_similarity"
   ]
  },
  {
   "cell_type": "code",
   "execution_count": 17,
   "id": "29f45393",
   "metadata": {},
   "outputs": [],
   "source": [
    "vocab_limit = 10000\n",
    "\n",
    "model_hi = fasttext.load_model(r\"custom_models/model_hi.bin\")\n",
    "model_en = fasttext.load_model(r\"custom_models/model_en.bin\")\n",
    "\n",
    "hi_words = model_hi.get_words()[:vocab_limit]\n",
    "en_words = model_en.get_words()[:vocab_limit]\n",
    "\n",
    "hi_word_embeddings = [model_hi.get_word_vector(word) for word in hi_words]\n",
    "en_word_embeddings = [model_en.get_word_vector(word) for word in en_words]"
   ]
  },
  {
   "cell_type": "code",
   "execution_count": 18,
   "id": "d42e3091",
   "metadata": {},
   "outputs": [
    {
     "name": "stdout",
     "output_type": "stream",
     "text": [
      "Number of hi words taken : 10000\n",
      "Number of en words taken : 10000\n",
      "Size of the hi word embedding : 100\n",
      "Size of the en word embedding : 100\n"
     ]
    }
   ],
   "source": [
    "print(f\"Number of hi words taken : {len(hi_words)}\")\n",
    "print(f\"Number of en words taken : {len(en_words)}\")\n",
    "print(f\"Size of the hi word embedding : {len(hi_word_embeddings[0])}\")\n",
    "print(f\"Size of the en word embedding : {len(en_word_embeddings[0])}\")"
   ]
  },
  {
   "cell_type": "code",
   "execution_count": 19,
   "id": "7338b099",
   "metadata": {},
   "outputs": [],
   "source": [
    "# Loading the muse en_hi parallel corpus dictionary\n",
    "def create_dict(file_path, size=5000):\n",
    "    en_hi = {}\n",
    "    with open(file_path, \"r\", encoding=\"utf-8\") as f:\n",
    "        for line in f:\n",
    "            en, hi = line.strip().split()\n",
    "            en_hi[en] = hi\n",
    "            if(len(en_hi)==size):\n",
    "                break\n",
    "                \n",
    "    return en_hi"
   ]
  },
  {
   "cell_type": "code",
   "execution_count": 20,
   "id": "e45500d1",
   "metadata": {},
   "outputs": [],
   "source": [
    "muse_translation_dict = create_dict(r\"../GeneratedDatasets/muse_crosslingual_en_hi/en-hi.txt\", size=20000)"
   ]
  },
  {
   "cell_type": "code",
   "execution_count": 23,
   "id": "f3999c9f",
   "metadata": {},
   "outputs": [],
   "source": [
    "class procrustus_translator:\n",
    "    \n",
    "    def __init__(self, model_en, model_hi, muse_dict, src_lang=\"en\", tar_lang=\"hi\"):\n",
    "\n",
    "        self.model_en = model_en\n",
    "        self.model_hi = model_hi  \n",
    "        self.en_word_embeddings = [(word,model_en.get_word_vector(word)) for word in self.model_en.get_words()]\n",
    "        self.hi_word_embeddings = [(word,model_hi.get_word_vector(word)) for word in self.model_hi.get_words()]\n",
    "        self.src_lang = src_lang\n",
    "        self.tar_lang = tar_lang\n",
    "        \n",
    "        self.procrusted_training_dataset = muse_dict\n",
    "        \n",
    "        if model_en.get_dimension() != model_hi.get_dimension():\n",
    "            raise RuntimeError(\"Mismatch of model embedding dimensions\")\n",
    "        else:\n",
    "            self.embedding_dimension = model_en.get_dimension()\n",
    "        \n",
    "        self.weight_matrix = np.zeros((self.embedding_dimension, self.embedding_dimension))\n",
    "    \n",
    "    def perform_supervised_alignment(self):\n",
    "\n",
    "        print(f\"Model is learning on dataset of size : {len(self.procrusted_training_dataset)}\")\n",
    "        \n",
    "        input_matrix = []\n",
    "        output_matrix = []\n",
    "        \n",
    "        for en, hi in zip(self.procrusted_training_dataset.keys(), self.procrusted_training_dataset.values()):\n",
    "            input_matrix.append(model_en.get_word_vector(en))\n",
    "            output_matrix.append(model_hi.get_word_vector(hi))\n",
    "        \n",
    "        X = np.array(input_matrix)\n",
    "        Y = np.array(output_matrix)\n",
    "\n",
    "        # Compute Singular Value Decomposition (SVD) to ensure orthogonality\n",
    "        U, _, V_t = np.linalg.svd(Y.T @ X)\n",
    "        self.weight_matrix = U @ V_t\n",
    "    \n",
    "    def learn(self):\n",
    "\n",
    "        self.perform_supervised_alignment()\n",
    "        # return self.weight_matrix\n",
    "    \n",
    "    def get_similarities(self, word_embedding, tar_word_embedding_pairs):\n",
    "\n",
    "        similarities = {}\n",
    "        for pair in tar_word_embedding_pairs:\n",
    "            if self.tar_lang == \"hi\":\n",
    "                similarities[(word_embedding[0], pair[0])] = cosine_similarity(pair[1].reshape(1, -1), word_embedding[1].reshape(1, -1))[0][0]\n",
    "    \n",
    "        \n",
    "        return similarities\n",
    "    \n",
    "    def translate(self, src_word, neighbors, lang=\"en\"):\n",
    "\n",
    "        if np.array_equal(self.weight_matrix, np.zeros((self.embedding_dimension, self.embedding_dimension))):\n",
    "            raise RuntimeError(\"The translator is not yet trained!!!\")\n",
    "        \n",
    "        if src_word not in self.procrusted_training_dataset.keys():\n",
    "            print(\"{src_word} not in the training vocab\")\n",
    "        \n",
    "        \n",
    "        src_word_embedding = self.model_en.get_word_vector(src_word)\n",
    "                \n",
    "        mapped_embedding = np.array(src_word_embedding) @ self.weight_matrix.T\n",
    "\n",
    "        # Compute cosine similarities\n",
    "        similarities = self.get_similarities((src_word, mapped_embedding), self.hi_word_embeddings)\n",
    "        \n",
    "        # Get top 5 translations\n",
    "        topk_translations = sorted(similarities.items(), key=lambda x: x[1], reverse=True)[:neighbors]\n",
    "        top_k_matchings = [i[0][1] for i in topk_translations]\n",
    "\n",
    "        return top_k_matchings\n",
    "    \n",
    "    def precision(self, neighbors, dataset_size):\n",
    "        \n",
    "        correct = 0\n",
    "        total = dataset_size\n",
    "        for en, hi in zip(list(self.procrusted_training_dataset.keys())[:dataset_size], list(self.procrusted_training_dataset.values())[:dataset_size]):\n",
    "            translations = self.translate(en, neighbors)\n",
    "            if translations and hi in translations[:neighbors]:\n",
    "                correct += 1\n",
    "        \n",
    "        return correct / total"
   ]
  },
  {
   "cell_type": "code",
   "execution_count": 24,
   "id": "eb7ff06e",
   "metadata": {},
   "outputs": [],
   "source": [
    "# Training on varying datasizes\n",
    "muse_translation_dict_5k = dict(list(muse_translation_dict.items())[:5000])\n",
    "muse_translation_dict_10k = dict(list(muse_translation_dict.items())[:10000])\n",
    "muse_translation_dict_15k = dict(list(muse_translation_dict.items())[:15000])\n",
    "muse_translation_dict_20k = dict(list(muse_translation_dict.items())[:20000])"
   ]
  },
  {
   "cell_type": "code",
   "execution_count": 25,
   "id": "f4e671f6",
   "metadata": {},
   "outputs": [],
   "source": [
    "procrustes_supervised_translator_5k = procrustus_translator(model_en, model_hi, muse_translation_dict_5k, src_lang=\"en\", tar_lang=\"hi\")\n",
    "procrustes_supervised_translator_10k = procrustus_translator(model_en, model_hi, muse_translation_dict_10k, src_lang=\"en\", tar_lang=\"hi\")\n",
    "procrustes_supervised_translator_15k = procrustus_translator(model_en, model_hi, muse_translation_dict_15k, src_lang=\"en\", tar_lang=\"hi\")\n",
    "procrustes_supervised_translator_20k = procrustus_translator(model_en, model_hi, muse_translation_dict_20k, src_lang=\"en\", tar_lang=\"hi\")"
   ]
  },
  {
   "cell_type": "code",
   "execution_count": 26,
   "id": "bd48985c",
   "metadata": {},
   "outputs": [
    {
     "name": "stdout",
     "output_type": "stream",
     "text": [
      "Model is learning on dataset of size : 5000\n",
      "Model is learning on dataset of size : 10000\n",
      "Model is learning on dataset of size : 15000\n",
      "Model is learning on dataset of size : 20000\n"
     ]
    }
   ],
   "source": [
    "procrustes_supervised_translator_5k.learn()\n",
    "procrustes_supervised_translator_10k.learn()\n",
    "procrustes_supervised_translator_15k.learn()\n",
    "procrustes_supervised_translator_20k.learn()"
   ]
  },
  {
   "cell_type": "code",
   "execution_count": null,
   "id": "96dd48f7",
   "metadata": {},
   "outputs": [
    {
     "data": {
      "text/plain": [
       "['और', 'एवं', 'में', 'के', 'निर्भरसंकटासन्नखतरे']"
      ]
     },
     "execution_count": 9,
     "metadata": {},
     "output_type": "execute_result"
    }
   ],
   "source": [
    "# procrustes_supervised_translator.translate(\"and\", 5)"
   ]
  },
  {
   "cell_type": "code",
   "execution_count": 35,
   "id": "1ddd32c5",
   "metadata": {},
   "outputs": [
    {
     "name": "stdout",
     "output_type": "stream",
     "text": [
      "5k_ModelPrecision@1: 0.12\n",
      "5k_ModelPrecision@5: 0.23\n"
     ]
    }
   ],
   "source": [
    "print(f\"5k_ModelPrecision@1: {procrustes_supervised_translator_5k.precision(neighbors=1,dataset_size=100)}\")\n",
    "print(f\"5k_ModelPrecision@5: {procrustes_supervised_translator_5k.precision(neighbors=5, dataset_size=100)}\")"
   ]
  },
  {
   "cell_type": "code",
   "execution_count": 36,
   "id": "de0cf6b2",
   "metadata": {},
   "outputs": [
    {
     "name": "stdout",
     "output_type": "stream",
     "text": [
      "10k_ModelPrecision@1: 0.1\n",
      "10k_ModelPrecision@5: 0.21\n"
     ]
    }
   ],
   "source": [
    "print(f\"10k_ModelPrecision@1: {procrustes_supervised_translator_10k.precision(neighbors=1,dataset_size=100)}\")\n",
    "print(f\"10k_ModelPrecision@5: {procrustes_supervised_translator_10k.precision(neighbors=5, dataset_size=100)}\")"
   ]
  },
  {
   "cell_type": "code",
   "execution_count": null,
   "id": "2a4bde24",
   "metadata": {},
   "outputs": [
    {
     "name": "stdout",
     "output_type": "stream",
     "text": [
      "15k_ModelPrecision@1: 0.1\n"
     ]
    }
   ],
   "source": [
    "print(f\"15k_ModelPrecision@1: {procrustes_supervised_translator_15k.precision(neighbors=1,dataset_size=100)}\")\n",
    "print(f\"15k_ModelPrecision@5: {procrustes_supervised_translator_15k.precision(neighbors=5, dataset_size=100)}\")"
   ]
  },
  {
   "cell_type": "code",
   "execution_count": null,
   "id": "2139b6e0",
   "metadata": {},
   "outputs": [
    {
     "name": "stdout",
     "output_type": "stream",
     "text": [
      "20k_ModelPrecision@1: 0.15\n",
      "20k_ModelPrecision@5: 0.25\n"
     ]
    }
   ],
   "source": [
    "print(f\"20k_ModelPrecision@1: {procrustes_supervised_translator_20k.precision(neighbors=1,dataset_size=100)}\")\n",
    "print(f\"20k_ModelPrecision@5: {procrustes_supervised_translator_20k.precision(neighbors=5, dataset_size=100)}\")"
   ]
  }
 ],
 "metadata": {
  "kernelspec": {
   "display_name": "sarvamai",
   "language": "python",
   "name": "python3"
  },
  "language_info": {
   "codemirror_mode": {
    "name": "ipython",
    "version": 3
   },
   "file_extension": ".py",
   "mimetype": "text/x-python",
   "name": "python",
   "nbconvert_exporter": "python",
   "pygments_lexer": "ipython3",
   "version": "3.10.16"
  }
 },
 "nbformat": 4,
 "nbformat_minor": 5
}
