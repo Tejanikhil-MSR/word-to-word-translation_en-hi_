{
 "cells": [
  {
   "cell_type": "code",
   "execution_count": 12,
   "id": "e1031d31",
   "metadata": {},
   "outputs": [],
   "source": [
    "import fasttext\n",
    "\n",
    "import torch\n",
    "import torch.nn as nn\n",
    "\n",
    "import matplotlib.pyplot as plt\n",
    "import numpy as np\n"
   ]
  },
  {
   "cell_type": "code",
   "execution_count": 2,
   "id": "9454bef0",
   "metadata": {},
   "outputs": [
    {
     "data": {
      "text/plain": [
       "True"
      ]
     },
     "execution_count": 2,
     "metadata": {},
     "output_type": "execute_result"
    }
   ],
   "source": [
    "torch.cuda.is_available()"
   ]
  },
  {
   "cell_type": "code",
   "execution_count": 7,
   "id": "f113a767",
   "metadata": {},
   "outputs": [],
   "source": [
    "class Discriminator(nn.Module):\n",
    "    def __init__(self, input_dim, hidden_dim=2048, num_layers=2, dropout=0.1, offset=256):\n",
    "        super().__init__()\n",
    "\n",
    "        # build a list of dims: [input_dim, hidden_dim, hidden_dim-offset, ...]\n",
    "        dims = [input_dim]\n",
    "        for _ in range(num_layers):\n",
    "            dims.append(dims[-1] == input_dim and hidden_dim or max(dims[-1] - offset, offset))\n",
    "\n",
    "        layers = []\n",
    "        for in_dim, out_dim in zip(dims, dims[1:]):\n",
    "            layers.append(nn.Linear(in_dim, out_dim))\n",
    "            layers.append(nn.LeakyReLU(0.2))\n",
    "            layers.append(nn.Dropout(dropout))\n",
    "\n",
    "        # final sigmoid head\n",
    "        layers.append(nn.Linear(dims[-1], 1))\n",
    "        layers.append(nn.Sigmoid())\n",
    "\n",
    "        self.model = nn.Sequential(*layers)\n",
    "\n",
    "    def forward(self, x):\n",
    "        return self.model(x).view(-1)"
   ]
  },
  {
   "cell_type": "code",
   "execution_count": 8,
   "id": "ddbe8ea4",
   "metadata": {},
   "outputs": [],
   "source": [
    "# This is what typically the mapper is according to the MUSE paper\n",
    "class Generator(nn.Module):\n",
    "    def __init__(self, embedding_dimension):\n",
    "        super(Generator, self).__init__()\n",
    "        self.dimension = embedding_dimension\n",
    "        self.model = nn.Sequential(nn.Linear(self.dimension, self.dimension), nn.ReLU())\n",
    "\n",
    "    def forward(self, x):\n",
    "        return self.model(x)"
   ]
  },
  {
   "cell_type": "code",
   "execution_count": 25,
   "id": "413a974d",
   "metadata": {},
   "outputs": [],
   "source": [
    "## Assume that we have a src embedding and target embeddings\n",
    "\n",
    "def train(src_emb, tar_emb, generator, discriminator, num_epochs, config):\n",
    "    # src_emb and tar_emb are the torch.Embeddings\n",
    "\n",
    "    optimizer_for_discriminator = torch.optim.Adam(discriminator.parameters(), lr=config[\"discriminator_lr\"]) \n",
    "    optimizer_for_generator = torch.optim.Adam(generator.parameters(), lr=config[\"generator_lr\"])\n",
    "    device = torch.device(\"cuda\" if torch.cuda.is_available() else \"cpu\")\n",
    "\n",
    "    src_emb = src_emb.to(device)\n",
    "    tar_emb = tar_emb.to(device)\n",
    "\n",
    "    generator = generator.to(device)\n",
    "    discriminator = discriminator.to(device)\n",
    "\n",
    "    # Lists to store loss values\n",
    "    discriminator_losses = []\n",
    "    generator_losses = []\n",
    "\n",
    "    for i in range(num_epochs):\n",
    "\n",
    "        # Lets update the discriminator multiple times rather than once in a epoch\n",
    "\n",
    "        for discr_steps in range(config[\"discriminator_train_steps\"]):\n",
    "\n",
    "            discriminator.train()\n",
    "\n",
    "            # Sampling with replacement\n",
    "\n",
    "            src_idx = torch.randint(0, src_emb.num_embeddings, (config[\"batch_size\"],), device=device)\n",
    "            tar_idx = torch.randint(0, tar_emb.num_embeddings, (config[\"batch_size\"],), device=device)\n",
    "\n",
    "            src_word_batch_embeddings = src_emb(src_idx.to(device))\n",
    "            tar_word_batch_embeddings = tar_emb(tar_idx.to(device))\n",
    "            \n",
    "            linear_transformation_of_src_embeddings = generator(src_word_batch_embeddings.to(device)).detach() # no grad calculation is needed\n",
    "            \n",
    "            # Let the descriminator classify the transformed embeddings\n",
    "            # If the descriminator is trained only with the fake data, then it always predicts the data as fake.\n",
    "            # @ discr_predictions = discriminator(linear_transformation_of_src_embeddings) \n",
    "            # So, the descriminator has to be aware of both the fake and real data\n",
    "\n",
    "            discriminator_input = torch.cat([linear_transformation_of_src_embeddings, tar_word_batch_embeddings], dim=0)\n",
    "            # print(\"Shape of the discriminator : \", discriminator_input.shape)\n",
    "            actual_output = torch.cat([torch.zeros(config[\"batch_size\"]), torch.ones(config[\"batch_size\"])], dim=0) # 0 for fake/generated 1 for real\n",
    "            # print(\"Dimension of input layer of the discriminator : \", discriminator.model[0].in_features)\n",
    "            pred_output = discriminator(discriminator_input.to(device))\n",
    "\n",
    "            optimizer_for_discriminator.zero_grad() # Avoiding gradient accumulations\n",
    "            discriminator_loss = nn.BCELoss()(pred_output.to(device), actual_output.to(device))\n",
    "            discriminator_loss.backward()\n",
    "            optimizer_for_discriminator.step()\n",
    "\n",
    "            discriminator_losses.append(discriminator_loss.item())\n",
    "\n",
    "        for gen_steps in range(config[\"generator_train_steps\"]):\n",
    "            src_idx = torch.randint(0, src_emb.num_embeddings, (config[\"batch_size\"],))\n",
    "            src_words = src_emb(src_idx.to(device))\n",
    "            linear_transformation = generator(src_words.to(device))\n",
    "\n",
    "            discri_prediction = discriminator(linear_transformation.to(device))\n",
    "            fake_preds = torch.ones(config[\"batch_size\"]) # the generator should learn to fool the discriminator\n",
    "\n",
    "            optimizer_for_generator.zero_grad()\n",
    "            generator_loss = nn.BCELoss()(discri_prediction.to(device), fake_preds.to(device))\n",
    "\n",
    "            generator_loss.backward()\n",
    "            optimizer_for_generator.step()\n",
    "\n",
    "            generator_losses.append(generator_loss.item())\n",
    "\n",
    "        if(i%100==0):\n",
    "            print(f\"Epoch {i}/{num_epochs} — D loss: {discriminator_losses[-1]:.4f}, G loss: {generator_losses[-1]:.4f}\")\n",
    "\n",
    "    plt.figure(figsize=(8,5))\n",
    "    plt.plot(discriminator_losses, label=\"Discriminator Loss\", alpha=0.7)\n",
    "    plt.plot(generator_losses,     label=\"Generator Loss\",     alpha=0.7)\n",
    "    plt.xlabel(\"Training Steps\")\n",
    "    plt.ylabel(\"Loss\")\n",
    "    plt.title(\"GAN Training Loss Curves\")\n",
    "    plt.legend()\n",
    "    plt.grid(True)\n",
    "    plt.tight_layout()\n",
    "    plt.show()\n",
    "\n",
    "    return generator, discriminator"
   ]
  },
  {
   "cell_type": "code",
   "execution_count": 26,
   "id": "d0f3a312",
   "metadata": {},
   "outputs": [],
   "source": [
    "import fasttext\n",
    "\n",
    "model_hi_path = r\"./custom_models/model_hi.bin\"\n",
    "model_en_path = r\"./custom_models/model_en.bin\"\n",
    "\n",
    "model_hi = fasttext.load_model(model_hi_path)\n",
    "model_en = fasttext.load_model(model_en_path)"
   ]
  },
  {
   "cell_type": "code",
   "execution_count": 27,
   "id": "c46e19a9",
   "metadata": {},
   "outputs": [
    {
     "name": "stderr",
     "output_type": "stream",
     "text": [
      "Read 3M words\n",
      "Number of words:  24356\n",
      "Number of labels: 0\n",
      "Progress: 100.0% words/sec/thread:   81461 lr:  0.000000 avg.loss:  1.851365 ETA:   0h 0m 0s avg.loss:  2.170722 ETA:   0h 0m 8s 1.950489 ETA:   0h 0m 4s\n",
      "Read 4M words\n",
      "Number of words:  38115\n",
      "Number of labels: 0\n",
      "Progress: 100.0% words/sec/thread:   55440 lr:  0.000000 avg.loss:  1.752350 ETA:   0h 0m 0s 78.8% words/sec/thread:   55649 lr:  0.010595 avg.loss:  1.721733 ETA:   0h 0m 2s\n"
     ]
    }
   ],
   "source": [
    "model_hi = fasttext.train_unsupervised(\"./TrainingReadyHindiText.txt\")\n",
    "model_en = fasttext.train_unsupervised(\"./TrainingReadyEnglishText.txt\")"
   ]
  },
  {
   "cell_type": "code",
   "execution_count": 28,
   "id": "19e12da2",
   "metadata": {},
   "outputs": [
    {
     "name": "stdout",
     "output_type": "stream",
     "text": [
      "Size of the source embedding :  torch.Size([38115, 100])\n"
     ]
    }
   ],
   "source": [
    "src_vocab = model_en.get_words()\n",
    "src_embedding_matrix = np.array([model_en.get_word_vector(word) for word in src_vocab])\n",
    "tar_vocab = model_hi.get_words()\n",
    "tar_embedding_matrix = np.array([model_hi.get_word_vector(word) for word in tar_vocab])\n",
    "\n",
    "src_embedding_dim = model_en.get_dimension()\n",
    "tar_embedding_dim = model_hi.get_dimension()\n",
    "\n",
    "src_embed = nn.Embedding.from_pretrained(torch.tensor(src_embedding_matrix, dtype=torch.float32))\n",
    "tar_embed = nn.Embedding.from_pretrained(torch.tensor(tar_embedding_matrix, dtype=torch.float32))\n",
    "\n",
    "print(\"Size of the source embedding : \", src_embed.weight.shape)\n",
    "\n",
    "# initialize the generator and discriminator\n",
    "generator = Generator(src_embedding_dim)\n",
    "discriminator = Discriminator(input_dim=src_embedding_dim, hidden_dim=1024, num_layers=3, dropout=0.1, offset=256)\n",
    "\n",
    "config = {\n",
    "    \"discriminator_lr\":0.00001,\n",
    "    \"generator_lr\": 0.00001,\n",
    "    \"discriminator_train_steps\": 1,\n",
    "    \"generator_train_steps\": 1,\n",
    "    \"batch_size\": 10\n",
    "}"
   ]
  },
  {
   "cell_type": "code",
   "execution_count": 29,
   "id": "a02cf44b",
   "metadata": {},
   "outputs": [
    {
     "name": "stdout",
     "output_type": "stream",
     "text": [
      "Epoch 0/500 — D loss: 0.6917, G loss: 0.6759\n",
      "Epoch 100/500 — D loss: 0.6018, G loss: 0.7192\n",
      "Epoch 200/500 — D loss: 0.3691, G loss: 0.8923\n",
      "Epoch 300/500 — D loss: 0.1780, G loss: 1.4800\n",
      "Epoch 400/500 — D loss: 0.0719, G loss: 2.1845\n"
     ]
    },
    {
     "data": {
      "image/png": "[encoded data removed]",
      "text/plain": [
       "<Figure size 800x500 with 1 Axes>"
      ]
     },
     "metadata": {},
     "output_type": "display_data"
    }
   ],
   "source": [
    "mapper, trained_discriminator = train(src_embed, tar_embed, generator, discriminator, num_epochs=500, config=config)"
   ]
  },
  {
   "cell_type": "code",
   "execution_count": 30,
   "id": "649743f9",
   "metadata": {},
   "outputs": [],
   "source": [
    "from sklearn.metrics.pairwise import cosine_similarity\n",
    "\n",
    "def get_similarities(word, word_embedding, fasttext_model):\n",
    "    similarities = []\n",
    "\n",
    "    for target_word in fasttext_model.get_words():\n",
    "        target_embedding = fasttext_model.get_word_vector(target_word)\n",
    "        similarity = cosine_similarity([word_embedding], [target_embedding])[0][0]\n",
    "        similarities.append((target_word, similarity))\n",
    "\n",
    "    return similarities\n",
    "\n",
    "def get_top_k_pairs(similarities, k):\n",
    "    top_k = sorted(similarities, key=lambda x: x[1], reverse=True)[:k]\n",
    "    return [word for word, _ in top_k]\n",
    "\n",
    "\n",
    "def generate_pseudo_translation_pairs(mapper, word, model_en, model_hi, k):\n",
    "    pseudo_bilingual_pairs = {}\n",
    "    tar_word_embeddings = [model_hi.get_word_vector(word) for word in model_hi.get_words()]\n",
    "    word_embedding = model_en.get_word_vector(word)\n",
    "    similarities = get_similarities(word, word_embedding, model_hi)\n",
    "    \n",
    "    return get_top_k_pairs(similarities, k)"
   ]
  },
  {
   "cell_type": "code",
   "execution_count": 31,
   "id": "26f797e4",
   "metadata": {},
   "outputs": [],
   "source": [
    "def precision(muse_dict, mapper, model_en, model_hi, k):\n",
    "    correct = 0\n",
    "    total = len(muse_dict)\n",
    "    for (en,hi) in zip(muse_dict.keys(), muse_dict.values()):\n",
    "        generated_pairs = generate_pseudo_translation_pairs(mapper, en, model_en, model_hi, k)\n",
    "        if hi in generated_pairs:\n",
    "            correct += 1\n",
    "            \n",
    "    return correct/total"
   ]
  },
  {
   "cell_type": "code",
   "execution_count": 32,
   "id": "5f683363",
   "metadata": {},
   "outputs": [],
   "source": [
    "# Loading the muse en_hi parallel corpus dictionary\n",
    "def create_dict(file_path, size=5000):\n",
    "    en_hi = {}\n",
    "    with open(file_path, \"r\", encoding=\"utf-8\") as f:\n",
    "        for line in f:\n",
    "            en, hi = line.strip().split()\n",
    "            en_hi[en] = hi\n",
    "            if(len(en_hi)==size):\n",
    "                break\n",
    "                \n",
    "    return en_hi"
   ]
  },
  {
   "cell_type": "code",
   "execution_count": 34,
   "id": "d92acf82",
   "metadata": {},
   "outputs": [],
   "source": [
    "muse_translation_dict = create_dict(r\"../GeneratedDatasets/muse_crosslingual_en_hi/en-hi.txt\")"
   ]
  },
  {
   "cell_type": "code",
   "execution_count": null,
   "id": "779ef641",
   "metadata": {},
   "outputs": [],
   "source": [
    "precision(muse_translation_dict, mapper, model_en, model_hi, k=10)"
   ]
  }
 ],
 "metadata": {
  "kernelspec": {
   "display_name": "procrustes",
   "language": "python",
   "name": "python3"
  },
  "language_info": {
   "codemirror_mode": {
    "name": "ipython",
    "version": 3
   },
   "file_extension": ".py",
   "mimetype": "text/x-python",
   "name": "python",
   "nbconvert_exporter": "python",
   "pygments_lexer": "ipython3",
   "version": "3.10.16"
  }
 },
 "nbformat": 4,
 "nbformat_minor": 5
}
