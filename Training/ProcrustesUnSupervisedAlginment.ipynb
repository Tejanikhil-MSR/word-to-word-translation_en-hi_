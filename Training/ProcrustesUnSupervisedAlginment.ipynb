{
 "cells": [
  {
   "cell_type": "code",
   "execution_count": 1,
   "id": "e1031d31",
   "metadata": {},
   "outputs": [],
   "source": [
    "import fasttext\n",
    "\n",
    "import torch\n",
    "import torch.nn as nn\n",
    "\n",
    "import matplotlib.pyplot as plt\n",
    "import numpy as np\n"
   ]
  },
  {
   "cell_type": "code",
   "execution_count": 2,
   "id": "9454bef0",
   "metadata": {},
   "outputs": [
    {
     "data": {
      "text/plain": [
       "True"
      ]
     },
     "execution_count": 2,
     "metadata": {},
     "output_type": "execute_result"
    }
   ],
   "source": [
    "torch.cuda.is_available()"
   ]
  },
  {
   "cell_type": "code",
   "execution_count": 3,
   "id": "f113a767",
   "metadata": {},
   "outputs": [],
   "source": [
    "class Discriminator(nn.Module):\n",
    "    def __init__(self, input_dim, hidden_dim=2048, num_layers=2, dropout=0.1, offset=256):\n",
    "        super().__init__()\n",
    "\n",
    "        # build a list of dims: [input_dim, hidden_dim, hidden_dim-offset, ...]\n",
    "        dims = [input_dim]\n",
    "        for _ in range(num_layers):\n",
    "            dims.append(dims[-1] == input_dim and hidden_dim or max(dims[-1] - offset, offset))\n",
    "\n",
    "        layers = []\n",
    "        for in_dim, out_dim in zip(dims, dims[1:]):\n",
    "            layers.append(nn.Linear(in_dim, out_dim))\n",
    "            layers.append(nn.LeakyReLU(0.2))\n",
    "            layers.append(nn.Dropout(dropout))\n",
    "\n",
    "        # final sigmoid head\n",
    "        layers.append(nn.Linear(dims[-1], 1))\n",
    "        layers.append(nn.Sigmoid())\n",
    "\n",
    "        self.model = nn.Sequential(*layers)\n",
    "\n",
    "    def forward(self, x):\n",
    "        return self.model(x).view(-1)"
   ]
  },
  {
   "cell_type": "code",
   "execution_count": 4,
   "id": "ddbe8ea4",
   "metadata": {},
   "outputs": [],
   "source": [
    "# This is what typically the mapper is according to the MUSE paper\n",
    "class Generator(nn.Module):\n",
    "    def __init__(self, embedding_dimension):\n",
    "        super(Generator, self).__init__()\n",
    "        self.dimension = embedding_dimension\n",
    "        self.model = nn.Sequential(nn.Linear(self.dimension, self.dimension), nn.ReLU())\n",
    "\n",
    "    def forward(self, x):\n",
    "        return self.model(x)"
   ]
  },
  {
   "cell_type": "code",
   "execution_count": null,
   "id": "413a974d",
   "metadata": {},
   "outputs": [],
   "source": [
    "## Assume that we have a src embedding and target embeddings\n",
    "\n",
    "def train(src_emb, tar_emb, generator, discriminator, num_epochs, config):\n",
    "    # src_emb and tar_emb are the torch.Embeddings\n",
    "\n",
    "    optimizer_for_discriminator = torch.optim.Adam(discriminator.parameters(), lr=config[\"discriminator_lr\"]) \n",
    "    optimizer_for_generator = torch.optim.Adam(generator.parameters(), lr=config[\"generator_lr\"])\n",
    "    device = torch.device(\"cuda\" if torch.cuda.is_available() else \"cpu\")\n",
    "\n",
    "    src_emb = src_emb.to(device)\n",
    "    tar_emb = tar_emb.to(device)\n",
    "\n",
    "    generator = generator.to(device)\n",
    "    discriminator = discriminator.to(device)\n",
    "\n",
    "    # Lists to store loss values\n",
    "    discriminator_losses = []\n",
    "    generator_losses = []\n",
    "\n",
    "    for i in range(num_epochs):\n",
    "\n",
    "        # Lets update the discriminator multiple times rather than once in a epoch\n",
    "\n",
    "        for discr_steps in range(config[\"discriminator_train_steps\"]):\n",
    "\n",
    "            discriminator.train()\n",
    "\n",
    "            # Sampling with replacement\n",
    "\n",
    "            src_idx = torch.randint(0, src_emb.num_embeddings, (config[\"batch_size\"],), device=device)\n",
    "            tar_idx = torch.randint(0, tar_emb.num_embeddings, (config[\"batch_size\"],), device=device)\n",
    "\n",
    "            src_word_batch_embeddings = src_emb(src_idx.to(device))\n",
    "            tar_word_batch_embeddings = tar_emb(tar_idx.to(device))\n",
    "            \n",
    "            linear_transformation_of_src_embeddings = generator(src_word_batch_embeddings.to(device)).detach() # no grad calculation is needed\n",
    "            \n",
    "            # Let the descriminator classify the transformed embeddings\n",
    "            # If the descriminator is trained only with the fake data, then it always predicts the data as fake.\n",
    "            # @ discr_predictions = discriminator(linear_transformation_of_src_embeddings) \n",
    "            # So, the descriminator has to be aware of both the fake and real data\n",
    "\n",
    "            discriminator_input = torch.cat([linear_transformation_of_src_embeddings, tar_word_batch_embeddings], dim=0)\n",
    "            # print(\"Shape of the discriminator : \", discriminator_input.shape)\n",
    "            actual_output = torch.cat([torch.zeros(config[\"batch_size\"]), torch.ones(config[\"batch_size\"])], dim=0) # 0 for fake/generated 1 for real\n",
    "            # print(\"Dimension of input layer of the discriminator : \", discriminator.model[0].in_features)\n",
    "            pred_output = discriminator(discriminator_input.to(device))\n",
    "\n",
    "            optimizer_for_discriminator.zero_grad() # Avoiding gradient accumulations\n",
    "            discriminator_loss = nn.BCELoss()(pred_output.to(device), actual_output.to(device))\n",
    "            discriminator_loss.backward()\n",
    "            optimizer_for_discriminator.step()\n",
    "\n",
    "            discriminator_losses.append(discriminator_loss.item())\n",
    "\n",
    "        for gen_steps in range(config[\"generator_train_steps\"]):\n",
    "            src_idx = torch.randint(0, src_emb.num_embeddings, (config[\"batch_size\"],))\n",
    "            src_words = src_emb(src_idx.to(device))\n",
    "            linear_transformation = generator(src_words.to(device))\n",
    "\n",
    "            discri_prediction = discriminator(linear_transformation.to(device))\n",
    "            fake_preds = torch.ones(config[\"batch_size\"]) # the generator should learn to fool the discriminator\n",
    "\n",
    "            optimizer_for_generator.zero_grad()\n",
    "            generator_loss = nn.BCELoss()(discri_prediction.to(device), fake_preds.to(device))\n",
    "\n",
    "            generator_loss.backward()\n",
    "            optimizer_for_generator.step()\n",
    "\n",
    "            generator_losses.append(generator_loss.item())\n",
    "\n",
    "        if(i%100==0):\n",
    "            print(f\"Epoch {i}/{num_epochs} — D loss: {discriminator_losses[-1]:.4f}, G loss: {generator_losses[-1]:.4f}\")\n",
    "\n",
    "    plt.figure(figsize=(8,5))\n",
    "    plt.plot(discriminator_losses, label=\"Discriminator Loss\", alpha=0.7)\n",
    "    plt.plot(generator_losses,     label=\"Generator Loss\",     alpha=0.7)\n",
    "    plt.xlabel(\"Training Steps\")\n",
    "    plt.ylabel(\"Loss\")\n",
    "    plt.title(\"GAN Training Loss Curves\")\n",
    "    plt.legend()\n",
    "    plt.grid(True)\n",
    "    plt.tight_layout()\n",
    "    plt.show()\n",
    "\n",
    "    return generator, discriminator"
   ]
  },
  {
   "cell_type": "code",
   "execution_count": 6,
   "id": "d0f3a312",
   "metadata": {},
   "outputs": [],
   "source": [
    "import fasttext\n",
    "\n",
    "model_hi_path = r\"./custom_models/model_hi.bin\"\n",
    "model_en_path = r\"./custom_models/model_en.bin\"\n",
    "\n",
    "model_hi = fasttext.load_model(model_hi_path)\n",
    "model_en = fasttext.load_model(model_en_path)"
   ]
  },
  {
   "cell_type": "code",
   "execution_count": 7,
   "id": "c46e19a9",
   "metadata": {},
   "outputs": [
    {
     "name": "stderr",
     "output_type": "stream",
     "text": [
      "Read 3M words\n",
      "Number of words:  24356\n",
      "Number of labels: 0\n",
      "Progress: 100.0% words/sec/thread:   81402 lr:  0.000000 avg.loss:  1.853551 ETA:   0h 0m 0s avg.loss:  1.858062 ETA:   0h 0m 0s\n",
      "Read 4M words\n",
      "Number of words:  38115\n",
      "Number of labels: 0\n",
      "Progress: 100.0% words/sec/thread:   55774 lr:  0.000000 avg.loss:  1.754215 ETA:   0h 0m 0s\n"
     ]
    }
   ],
   "source": [
    "model_hi = fasttext.train_unsupervised(\"./TrainingReadyHindiText.txt\")\n",
    "model_en = fasttext.train_unsupervised(\"./TrainingReadyEnglishText.txt\")"
   ]
  },
  {
   "cell_type": "code",
   "execution_count": 8,
   "id": "19e12da2",
   "metadata": {},
   "outputs": [
    {
     "name": "stdout",
     "output_type": "stream",
     "text": [
      "Size of the source embedding :  torch.Size([38115, 100])\n"
     ]
    }
   ],
   "source": [
    "src_vocab = model_en.get_words()\n",
    "src_embedding_matrix = np.array([model_en.get_word_vector(word) for word in src_vocab])\n",
    "tar_vocab = model_hi.get_words()\n",
    "tar_embedding_matrix = np.array([model_hi.get_word_vector(word) for word in tar_vocab])\n",
    "\n",
    "src_embedding_dim = model_en.get_dimension()\n",
    "tar_embedding_dim = model_hi.get_dimension()\n",
    "\n",
    "src_embed = nn.Embedding.from_pretrained(torch.tensor(src_embedding_matrix, dtype=torch.float32))\n",
    "tar_embed = nn.Embedding.from_pretrained(torch.tensor(tar_embedding_matrix, dtype=torch.float32))\n",
    "\n",
    "print(\"Size of the source embedding : \", src_embed.weight.shape)\n",
    "\n",
    "# initialize the generator and discriminator\n",
    "generator = Generator(src_embedding_dim)\n",
    "discriminator = Discriminator(input_dim=src_embedding_dim, hidden_dim=1024, num_layers=3, dropout=0.1, offset=256)\n",
    "\n",
    "config = {\n",
    "    \"discriminator_lr\":0.00001,\n",
    "    \"generator_lr\": 0.00001,\n",
    "    \"discriminator_train_steps\": 1,\n",
    "    \"generator_train_steps\": 1,\n",
    "    \"batch_size\": 10\n",
    "}"
   ]
  },
  {
   "cell_type": "code",
   "execution_count": 9,
   "id": "a02cf44b",
   "metadata": {},
   "outputs": [
    {
     "name": "stdout",
     "output_type": "stream",
     "text": [
      "Epoch 0/500 — D loss: 0.6915, G loss: 0.6957\n",
      "Epoch 100/500 — D loss: 0.5912, G loss: 0.7559\n",
      "Epoch 200/500 — D loss: 0.3629, G loss: 0.9353\n",
      "Epoch 300/500 — D loss: 0.1662, G loss: 1.5488\n",
      "Epoch 400/500 — D loss: 0.0705, G loss: 2.2792\n"
     ]
    },
    {
     "data": {
      "image/png": "[encoded data removed]",
      "text/plain": [
       "<Figure size 800x500 with 1 Axes>"
      ]
     },
     "metadata": {},
     "output_type": "display_data"
    }
   ],
   "source": [
    "mapper, trained_discriminator = train(src_embed, tar_embed, generator, discriminator, num_epochs=500, config=config)"
   ]
  },
  {
   "cell_type": "code",
   "execution_count": 10,
   "id": "e6ef26f2",
   "metadata": {},
   "outputs": [],
   "source": [
    "# Save\n",
    "torch.save(mapper.state_dict(), \"unsupervised_mapper.pth\")"
   ]
  },
  {
   "cell_type": "code",
   "execution_count": 31,
   "id": "649743f9",
   "metadata": {},
   "outputs": [],
   "source": [
    "from sklearn.metrics.pairwise import cosine_similarity\n",
    "\n",
    "def get_similarities(word, word_embedding, fasttext_model):\n",
    "    similarities = []\n",
    "\n",
    "    for target_word in fasttext_model.get_words():\n",
    "        target_embedding = fasttext_model.get_word_vector(target_word)\n",
    "        similarity = cosine_similarity([word_embedding], [target_embedding])[0][0]\n",
    "        similarities.append((target_word, similarity))\n",
    "\n",
    "    return similarities\n",
    "\n",
    "def get_top_k_pairs(similarities, k):\n",
    "    top_k = sorted(similarities, key=lambda x: x[1], reverse=True)[:k]\n",
    "    return [word for word, _ in top_k]\n",
    "\n",
    "\n",
    "def generate_pseudo_translation_pairs(mapper, word, model_en, model_hi, k):\n",
    "    word_embedding = mapper(torch.tensor(model_en.get_word_vector(word)).to(torch.device(\"cuda\" if torch.cuda.is_available() else \"cpu\")))\n",
    "    similarities = get_similarities(word, word_embedding.to(torch.device(\"cpu\")), model_hi)\n",
    "    \n",
    "    return get_top_k_pairs(similarities, k)"
   ]
  },
  {
   "cell_type": "code",
   "execution_count": 32,
   "id": "26f797e4",
   "metadata": {},
   "outputs": [],
   "source": [
    "def precision(muse_dict, mapper, model_en, model_hi, k):\n",
    "    correct = 0\n",
    "    total = len(muse_dict)\n",
    "    for (en,hi) in zip(muse_dict.keys(), muse_dict.values()):\n",
    "        generated_pairs = generate_pseudo_translation_pairs(mapper, en, model_en, model_hi, k)\n",
    "        if hi in generated_pairs:\n",
    "            correct += 1\n",
    "            \n",
    "    return correct/total"
   ]
  },
  {
   "cell_type": "code",
   "execution_count": 33,
   "id": "5f683363",
   "metadata": {},
   "outputs": [],
   "source": [
    "# Loading the muse en_hi parallel corpus dictionary\n",
    "def create_dict(file_path, size=5000):\n",
    "    en_hi = {}\n",
    "    with open(file_path, \"r\", encoding=\"utf-8\") as f:\n",
    "        for line in f:\n",
    "            en, hi = line.strip().split()\n",
    "            en_hi[en] = hi\n",
    "            if(len(en_hi)==size):\n",
    "                break\n",
    "\n",
    "    return en_hi"
   ]
  },
  {
   "cell_type": "code",
   "execution_count": 34,
   "id": "d92acf82",
   "metadata": {},
   "outputs": [],
   "source": [
    "muse_translation_dict = create_dict(r\"../GeneratedDatasets/muse_crosslingual_en_hi/en-hi.txt\", size=20000)"
   ]
  },
  {
   "cell_type": "code",
   "execution_count": 35,
   "id": "779ef641",
   "metadata": {},
   "outputs": [
    {
     "ename": "RuntimeError",
     "evalue": "Can't call numpy() on Tensor that requires grad. Use tensor.detach().numpy() instead.",
     "output_type": "error",
     "traceback": [
      "\u001b[0;31m---------------------------------------------------------------------------\u001b[0m",
      "\u001b[0;31mRuntimeError\u001b[0m                              Traceback (most recent call last)",
      "Cell \u001b[0;32mIn[35], line 1\u001b[0m\n\u001b[0;32m----> 1\u001b[0m \u001b[43mprecision\u001b[49m\u001b[43m(\u001b[49m\u001b[43mmuse_translation_dict\u001b[49m\u001b[43m,\u001b[49m\u001b[43m \u001b[49m\u001b[43mmapper\u001b[49m\u001b[43m,\u001b[49m\u001b[43m \u001b[49m\u001b[43mmodel_en\u001b[49m\u001b[43m,\u001b[49m\u001b[43m \u001b[49m\u001b[43mmodel_hi\u001b[49m\u001b[43m,\u001b[49m\u001b[43m \u001b[49m\u001b[43mk\u001b[49m\u001b[38;5;241;43m=\u001b[39;49m\u001b[38;5;241;43m10\u001b[39;49m\u001b[43m)\u001b[49m\n",
      "Cell \u001b[0;32mIn[32], line 5\u001b[0m, in \u001b[0;36mprecision\u001b[0;34m(muse_dict, mapper, model_en, model_hi, k)\u001b[0m\n\u001b[1;32m      3\u001b[0m total \u001b[38;5;241m=\u001b[39m \u001b[38;5;28mlen\u001b[39m(muse_dict)\n\u001b[1;32m      4\u001b[0m \u001b[38;5;28;01mfor\u001b[39;00m (en,hi) \u001b[38;5;129;01min\u001b[39;00m \u001b[38;5;28mzip\u001b[39m(muse_dict\u001b[38;5;241m.\u001b[39mkeys(), muse_dict\u001b[38;5;241m.\u001b[39mvalues()):\n\u001b[0;32m----> 5\u001b[0m     generated_pairs \u001b[38;5;241m=\u001b[39m \u001b[43mgenerate_pseudo_translation_pairs\u001b[49m\u001b[43m(\u001b[49m\u001b[43mmapper\u001b[49m\u001b[43m,\u001b[49m\u001b[43m \u001b[49m\u001b[43men\u001b[49m\u001b[43m,\u001b[49m\u001b[43m \u001b[49m\u001b[43mmodel_en\u001b[49m\u001b[43m,\u001b[49m\u001b[43m \u001b[49m\u001b[43mmodel_hi\u001b[49m\u001b[43m,\u001b[49m\u001b[43m \u001b[49m\u001b[43mk\u001b[49m\u001b[43m)\u001b[49m\n\u001b[1;32m      6\u001b[0m     \u001b[38;5;28;01mif\u001b[39;00m hi \u001b[38;5;129;01min\u001b[39;00m generated_pairs:\n\u001b[1;32m      7\u001b[0m         correct \u001b[38;5;241m+\u001b[39m\u001b[38;5;241m=\u001b[39m \u001b[38;5;241m1\u001b[39m\n",
      "Cell \u001b[0;32mIn[31], line 20\u001b[0m, in \u001b[0;36mgenerate_pseudo_translation_pairs\u001b[0;34m(mapper, word, model_en, model_hi, k)\u001b[0m\n\u001b[1;32m     18\u001b[0m \u001b[38;5;28;01mdef\u001b[39;00m\u001b[38;5;250m \u001b[39m\u001b[38;5;21mgenerate_pseudo_translation_pairs\u001b[39m(mapper, word, model_en, model_hi, k):\n\u001b[1;32m     19\u001b[0m     word_embedding \u001b[38;5;241m=\u001b[39m mapper(torch\u001b[38;5;241m.\u001b[39mtensor(model_en\u001b[38;5;241m.\u001b[39mget_word_vector(word))\u001b[38;5;241m.\u001b[39mto(torch\u001b[38;5;241m.\u001b[39mdevice(\u001b[38;5;124m\"\u001b[39m\u001b[38;5;124mcuda\u001b[39m\u001b[38;5;124m\"\u001b[39m \u001b[38;5;28;01mif\u001b[39;00m torch\u001b[38;5;241m.\u001b[39mcuda\u001b[38;5;241m.\u001b[39mis_available() \u001b[38;5;28;01melse\u001b[39;00m \u001b[38;5;124m\"\u001b[39m\u001b[38;5;124mcpu\u001b[39m\u001b[38;5;124m\"\u001b[39m)))\n\u001b[0;32m---> 20\u001b[0m     similarities \u001b[38;5;241m=\u001b[39m \u001b[43mget_similarities\u001b[49m\u001b[43m(\u001b[49m\u001b[43mword\u001b[49m\u001b[43m,\u001b[49m\u001b[43m \u001b[49m\u001b[43mword_embedding\u001b[49m\u001b[38;5;241;43m.\u001b[39;49m\u001b[43mto\u001b[49m\u001b[43m(\u001b[49m\u001b[43mtorch\u001b[49m\u001b[38;5;241;43m.\u001b[39;49m\u001b[43mdevice\u001b[49m\u001b[43m(\u001b[49m\u001b[38;5;124;43m\"\u001b[39;49m\u001b[38;5;124;43mcpu\u001b[39;49m\u001b[38;5;124;43m\"\u001b[39;49m\u001b[43m)\u001b[49m\u001b[43m)\u001b[49m\u001b[43m,\u001b[49m\u001b[43m \u001b[49m\u001b[43mmodel_hi\u001b[49m\u001b[43m)\u001b[49m\n\u001b[1;32m     22\u001b[0m     \u001b[38;5;28;01mreturn\u001b[39;00m get_top_k_pairs(similarities, k)\n",
      "Cell \u001b[0;32mIn[31], line 8\u001b[0m, in \u001b[0;36mget_similarities\u001b[0;34m(word, word_embedding, fasttext_model)\u001b[0m\n\u001b[1;32m      6\u001b[0m \u001b[38;5;28;01mfor\u001b[39;00m target_word \u001b[38;5;129;01min\u001b[39;00m fasttext_model\u001b[38;5;241m.\u001b[39mget_words():\n\u001b[1;32m      7\u001b[0m     target_embedding \u001b[38;5;241m=\u001b[39m fasttext_model\u001b[38;5;241m.\u001b[39mget_word_vector(target_word)\n\u001b[0;32m----> 8\u001b[0m     similarity \u001b[38;5;241m=\u001b[39m \u001b[43mcosine_similarity\u001b[49m\u001b[43m(\u001b[49m\u001b[43m[\u001b[49m\u001b[43mword_embedding\u001b[49m\u001b[43m]\u001b[49m\u001b[43m,\u001b[49m\u001b[43m \u001b[49m\u001b[43m[\u001b[49m\u001b[43mtarget_embedding\u001b[49m\u001b[43m]\u001b[49m\u001b[43m)\u001b[49m[\u001b[38;5;241m0\u001b[39m][\u001b[38;5;241m0\u001b[39m]\n\u001b[1;32m      9\u001b[0m     similarities\u001b[38;5;241m.\u001b[39mappend((target_word, similarity))\n\u001b[1;32m     11\u001b[0m \u001b[38;5;28;01mreturn\u001b[39;00m similarities\n",
      "File \u001b[0;32m~/miniconda/envs/procrustes/lib/python3.10/site-packages/sklearn/utils/_param_validation.py:216\u001b[0m, in \u001b[0;36mvalidate_params.<locals>.decorator.<locals>.wrapper\u001b[0;34m(*args, **kwargs)\u001b[0m\n\u001b[1;32m    210\u001b[0m \u001b[38;5;28;01mtry\u001b[39;00m:\n\u001b[1;32m    211\u001b[0m     \u001b[38;5;28;01mwith\u001b[39;00m config_context(\n\u001b[1;32m    212\u001b[0m         skip_parameter_validation\u001b[38;5;241m=\u001b[39m(\n\u001b[1;32m    213\u001b[0m             prefer_skip_nested_validation \u001b[38;5;129;01mor\u001b[39;00m global_skip_validation\n\u001b[1;32m    214\u001b[0m         )\n\u001b[1;32m    215\u001b[0m     ):\n\u001b[0;32m--> 216\u001b[0m         \u001b[38;5;28;01mreturn\u001b[39;00m \u001b[43mfunc\u001b[49m\u001b[43m(\u001b[49m\u001b[38;5;241;43m*\u001b[39;49m\u001b[43margs\u001b[49m\u001b[43m,\u001b[49m\u001b[43m \u001b[49m\u001b[38;5;241;43m*\u001b[39;49m\u001b[38;5;241;43m*\u001b[39;49m\u001b[43mkwargs\u001b[49m\u001b[43m)\u001b[49m\n\u001b[1;32m    217\u001b[0m \u001b[38;5;28;01mexcept\u001b[39;00m InvalidParameterError \u001b[38;5;28;01mas\u001b[39;00m e:\n\u001b[1;32m    218\u001b[0m     \u001b[38;5;66;03m# When the function is just a wrapper around an estimator, we allow\u001b[39;00m\n\u001b[1;32m    219\u001b[0m     \u001b[38;5;66;03m# the function to delegate validation to the estimator, but we replace\u001b[39;00m\n\u001b[1;32m    220\u001b[0m     \u001b[38;5;66;03m# the name of the estimator by the name of the function in the error\u001b[39;00m\n\u001b[1;32m    221\u001b[0m     \u001b[38;5;66;03m# message to avoid confusion.\u001b[39;00m\n\u001b[1;32m    222\u001b[0m     msg \u001b[38;5;241m=\u001b[39m re\u001b[38;5;241m.\u001b[39msub(\n\u001b[1;32m    223\u001b[0m         \u001b[38;5;124mr\u001b[39m\u001b[38;5;124m\"\u001b[39m\u001b[38;5;124mparameter of \u001b[39m\u001b[38;5;124m\\\u001b[39m\u001b[38;5;124mw+ must be\u001b[39m\u001b[38;5;124m\"\u001b[39m,\n\u001b[1;32m    224\u001b[0m         \u001b[38;5;124mf\u001b[39m\u001b[38;5;124m\"\u001b[39m\u001b[38;5;124mparameter of \u001b[39m\u001b[38;5;132;01m{\u001b[39;00mfunc\u001b[38;5;241m.\u001b[39m\u001b[38;5;18m__qualname__\u001b[39m\u001b[38;5;132;01m}\u001b[39;00m\u001b[38;5;124m must be\u001b[39m\u001b[38;5;124m\"\u001b[39m,\n\u001b[1;32m    225\u001b[0m         \u001b[38;5;28mstr\u001b[39m(e),\n\u001b[1;32m    226\u001b[0m     )\n",
      "File \u001b[0;32m~/miniconda/envs/procrustes/lib/python3.10/site-packages/sklearn/metrics/pairwise.py:1741\u001b[0m, in \u001b[0;36mcosine_similarity\u001b[0;34m(X, Y, dense_output)\u001b[0m\n\u001b[1;32m   1695\u001b[0m \u001b[38;5;250m\u001b[39m\u001b[38;5;124;03m\"\"\"Compute cosine similarity between samples in X and Y.\u001b[39;00m\n\u001b[1;32m   1696\u001b[0m \n\u001b[1;32m   1697\u001b[0m \u001b[38;5;124;03mCosine similarity, or the cosine kernel, computes similarity as the\u001b[39;00m\n\u001b[0;32m   (...)\u001b[0m\n\u001b[1;32m   1737\u001b[0m \u001b[38;5;124;03m       [0.57..., 0.81...]])\u001b[39;00m\n\u001b[1;32m   1738\u001b[0m \u001b[38;5;124;03m\"\"\"\u001b[39;00m\n\u001b[1;32m   1739\u001b[0m \u001b[38;5;66;03m# to avoid recursive import\u001b[39;00m\n\u001b[0;32m-> 1741\u001b[0m X, Y \u001b[38;5;241m=\u001b[39m \u001b[43mcheck_pairwise_arrays\u001b[49m\u001b[43m(\u001b[49m\u001b[43mX\u001b[49m\u001b[43m,\u001b[49m\u001b[43m \u001b[49m\u001b[43mY\u001b[49m\u001b[43m)\u001b[49m\n\u001b[1;32m   1743\u001b[0m X_normalized \u001b[38;5;241m=\u001b[39m normalize(X, copy\u001b[38;5;241m=\u001b[39m\u001b[38;5;28;01mTrue\u001b[39;00m)\n\u001b[1;32m   1744\u001b[0m \u001b[38;5;28;01mif\u001b[39;00m X \u001b[38;5;129;01mis\u001b[39;00m Y:\n",
      "File \u001b[0;32m~/miniconda/envs/procrustes/lib/python3.10/site-packages/sklearn/metrics/pairwise.py:181\u001b[0m, in \u001b[0;36mcheck_pairwise_arrays\u001b[0;34m(X, Y, precomputed, dtype, accept_sparse, force_all_finite, ensure_all_finite, ensure_2d, copy)\u001b[0m\n\u001b[1;32m    179\u001b[0m xp, _ \u001b[38;5;241m=\u001b[39m get_namespace(X, Y)\n\u001b[1;32m    180\u001b[0m \u001b[38;5;28;01mif\u001b[39;00m \u001b[38;5;28many\u001b[39m([issparse(X), issparse(Y)]) \u001b[38;5;129;01mor\u001b[39;00m _is_numpy_namespace(xp):\n\u001b[0;32m--> 181\u001b[0m     X, Y, dtype_float \u001b[38;5;241m=\u001b[39m \u001b[43m_return_float_dtype\u001b[49m\u001b[43m(\u001b[49m\u001b[43mX\u001b[49m\u001b[43m,\u001b[49m\u001b[43m \u001b[49m\u001b[43mY\u001b[49m\u001b[43m)\u001b[49m\n\u001b[1;32m    182\u001b[0m \u001b[38;5;28;01melse\u001b[39;00m:\n\u001b[1;32m    183\u001b[0m     dtype_float \u001b[38;5;241m=\u001b[39m _find_matching_floating_dtype(X, Y, xp\u001b[38;5;241m=\u001b[39mxp)\n",
      "File \u001b[0;32m~/miniconda/envs/procrustes/lib/python3.10/site-packages/sklearn/metrics/pairwise.py:57\u001b[0m, in \u001b[0;36m_return_float_dtype\u001b[0;34m(X, Y)\u001b[0m\n\u001b[1;32m     52\u001b[0m \u001b[38;5;250m\u001b[39m\u001b[38;5;124;03m\"\"\"\u001b[39;00m\n\u001b[1;32m     53\u001b[0m \u001b[38;5;124;03m1. If dtype of X and Y is float32, then dtype float32 is returned.\u001b[39;00m\n\u001b[1;32m     54\u001b[0m \u001b[38;5;124;03m2. Else dtype float is returned.\u001b[39;00m\n\u001b[1;32m     55\u001b[0m \u001b[38;5;124;03m\"\"\"\u001b[39;00m\n\u001b[1;32m     56\u001b[0m \u001b[38;5;28;01mif\u001b[39;00m \u001b[38;5;129;01mnot\u001b[39;00m issparse(X) \u001b[38;5;129;01mand\u001b[39;00m \u001b[38;5;129;01mnot\u001b[39;00m \u001b[38;5;28misinstance\u001b[39m(X, np\u001b[38;5;241m.\u001b[39mndarray):\n\u001b[0;32m---> 57\u001b[0m     X \u001b[38;5;241m=\u001b[39m \u001b[43mnp\u001b[49m\u001b[38;5;241;43m.\u001b[39;49m\u001b[43masarray\u001b[49m\u001b[43m(\u001b[49m\u001b[43mX\u001b[49m\u001b[43m)\u001b[49m\n\u001b[1;32m     59\u001b[0m \u001b[38;5;28;01mif\u001b[39;00m Y \u001b[38;5;129;01mis\u001b[39;00m \u001b[38;5;28;01mNone\u001b[39;00m:\n\u001b[1;32m     60\u001b[0m     Y_dtype \u001b[38;5;241m=\u001b[39m X\u001b[38;5;241m.\u001b[39mdtype\n",
      "File \u001b[0;32m~/miniconda/envs/procrustes/lib/python3.10/site-packages/torch/_tensor.py:1149\u001b[0m, in \u001b[0;36mTensor.__array__\u001b[0;34m(self, dtype)\u001b[0m\n\u001b[1;32m   1147\u001b[0m     \u001b[38;5;28;01mreturn\u001b[39;00m handle_torch_function(Tensor\u001b[38;5;241m.\u001b[39m__array__, (\u001b[38;5;28mself\u001b[39m,), \u001b[38;5;28mself\u001b[39m, dtype\u001b[38;5;241m=\u001b[39mdtype)\n\u001b[1;32m   1148\u001b[0m \u001b[38;5;28;01mif\u001b[39;00m dtype \u001b[38;5;129;01mis\u001b[39;00m \u001b[38;5;28;01mNone\u001b[39;00m:\n\u001b[0;32m-> 1149\u001b[0m     \u001b[38;5;28;01mreturn\u001b[39;00m \u001b[38;5;28;43mself\u001b[39;49m\u001b[38;5;241;43m.\u001b[39;49m\u001b[43mnumpy\u001b[49m\u001b[43m(\u001b[49m\u001b[43m)\u001b[49m\n\u001b[1;32m   1150\u001b[0m \u001b[38;5;28;01melse\u001b[39;00m:\n\u001b[1;32m   1151\u001b[0m     \u001b[38;5;28;01mreturn\u001b[39;00m \u001b[38;5;28mself\u001b[39m\u001b[38;5;241m.\u001b[39mnumpy()\u001b[38;5;241m.\u001b[39mastype(dtype, copy\u001b[38;5;241m=\u001b[39m\u001b[38;5;28;01mFalse\u001b[39;00m)\n",
      "\u001b[0;31mRuntimeError\u001b[0m: Can't call numpy() on Tensor that requires grad. Use tensor.detach().numpy() instead."
     ]
    }
   ],
   "source": [
    "precision(muse_translation_dict, mapper, model_en, model_hi, k=10)"
   ]
  },
  {
   "cell_type": "code",
   "execution_count": null,
   "id": "066139bc",
   "metadata": {},
   "outputs": [],
   "source": []
  }
 ],
 "metadata": {
  "kernelspec": {
   "display_name": "procrustes",
   "language": "python",
   "name": "python3"
  },
  "language_info": {
   "codemirror_mode": {
    "name": "ipython",
    "version": 3
   },
   "file_extension": ".py",
   "mimetype": "text/x-python",
   "name": "python",
   "nbconvert_exporter": "python",
   "pygments_lexer": "ipython3",
   "version": "3.10.16"
  }
 },
 "nbformat": 4,
 "nbformat_minor": 5
}
