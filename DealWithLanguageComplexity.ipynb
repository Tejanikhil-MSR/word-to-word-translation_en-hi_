{
 "cells": [
  {
   "cell_type": "code",
   "execution_count": 47,
   "id": "10cc0e72",
   "metadata": {},
   "outputs": [],
   "source": [
    "import pandas as pd\n",
    "import os\n",
    "import re\n",
    "from indicnlp.tokenize import indic_tokenize"
   ]
  },
  {
   "cell_type": "code",
   "execution_count": 48,
   "id": "6b924c47",
   "metadata": {},
   "outputs": [],
   "source": [
    "df = pd.read_csv(r\"GeneratedDatasets/hindi_scrapped_processed.csv\")"
   ]
  },
  {
   "cell_type": "code",
   "execution_count": 49,
   "id": "ad3d1be6",
   "metadata": {},
   "outputs": [
    {
     "data": {
      "text/plain": [
       "url           1000\n",
       "content        996\n",
       "word_count    1000\n",
       "dtype: int64"
      ]
     },
     "execution_count": 49,
     "metadata": {},
     "output_type": "execute_result"
    }
   ],
   "source": [
    "# count the number of non null values for each feature\n",
    "df.count()"
   ]
  },
  {
   "cell_type": "code",
   "execution_count": 50,
   "id": "7ace250d",
   "metadata": {},
   "outputs": [
    {
     "name": "stdout",
     "output_type": "stream",
     "text": [
      "url           996\n",
      "content       996\n",
      "word_count    996\n",
      "dtype: int64\n"
     ]
    }
   ],
   "source": [
    "dataframe = df.dropna()\n",
    "print(dataframe.count())"
   ]
  },
  {
   "cell_type": "code",
   "execution_count": 51,
   "id": "65e798ba",
   "metadata": {},
   "outputs": [
    {
     "data": {
      "text/plain": [
       "'पर बाद शामिल हुए देश। शक्तियाँयाऐलाइड शक्तियाँअंग्रेज़ी उन देशों का था जिन्होनेंद्वितीय विश्वयुद्धमेंब्रिटेनसंयुक्त संघऔरचीनका साथ दिया औरअक्ष शक्तियों के ख़िलाफ़ लड़े। द्वितीय की मुठभेड़ में इसलिए शामिल हुए क्योंकि उनपर अक्ष देशों कर दिया उन्हें अपने ऊपर होने का था फिर उन्हें थी कि अक्ष शक्तियाँ गयी पूरी पर जाएँगी। सितम्बर में की शुरआत मेंफ़्रांसपोलैंडऔरयूनाइटेड किंगडम में थे। जल्द ब्रिटेन के कुछ ज़ीलैंडऔरदक्षिण अफ़्रीकाभी इस में गए। के बाद का ब्रिटेन और मिलकर किया।भारतबेल्जियमयूनानमेक्सिकोचेकोस्लोवाकियानॉर्वेनेदरलैंड्ज़इथियोपियाऔरब्राज़ीलमें में थे। में जाकर शक्तियों की होने पर अक्ष शक्तियों का ख़त्म गया। इन्हें भी देखें मशीन सितंबर'"
      ]
     },
     "execution_count": 51,
     "metadata": {},
     "output_type": "execute_result"
    }
   ],
   "source": [
    "dataframe[\"content\"][995] # To ensure that the text is cleaned"
   ]
  },
  {
   "cell_type": "markdown",
   "id": "cb878f31",
   "metadata": {},
   "source": [
    "* **Challenge 1**: As we can see in the above text the words of the extracted text seemed to be concatenated (**Compound words)** which could significantly effect the training. \n",
    "* **Solution** : Split the concatenated text into meaningful words"
   ]
  },
  {
   "cell_type": "code",
   "execution_count": 52,
   "id": "c65e697f",
   "metadata": {},
   "outputs": [
    {
     "name": "stdout",
     "output_type": "stream",
     "text": [
      "पर बाद शामिल हुए देश । शक्तियाँयाऐलाइड शक्तियाँअंग्रेज़ी उन देशों का था जिन्होनेंद्वितीय विश्वयुद्धमेंब्रिटेनसंयुक्त संघऔरचीनका साथ दिया औरअक्ष शक्तियों के ख़िलाफ़ लड़े । द्वितीय की मुठभेड़ में इसलिए शामिल हुए क्योंकि उनपर अक्ष देशों कर दिया उन्हें अपने ऊपर होने का था फिर उन्हें थी कि अक्ष शक्तियाँ गयी पूरी पर जाएँगी । सितम्बर में की शुरआत मेंफ़्रांसपोलैंडऔरयूनाइटेड किंगडम में थे । जल्द ब्रिटेन के कुछ ज़ीलैंडऔरदक्षिण अफ़्रीकाभी इस में गए । के बाद का ब्रिटेन और मिलकर किया । भारतबेल्जियमयूनानमेक्सिकोचेकोस्लोवाकियानॉर्वेनेदरलैंड्ज़इथियोपियाऔरब्राज़ीलमें में थे । में जाकर शक्तियों की होने पर अक्ष शक्तियों का ख़त्म गया । इन्हें भी देखें मशीन सितंबर\n"
     ]
    }
   ],
   "source": [
    "text = dataframe[\"content\"][995]\n",
    "segmented_text = \" \".join(indic_tokenize.trivial_tokenize(text, lang='hi'))\n",
    "print(segmented_text) # lack of the proper hindi word dictionary"
   ]
  },
  {
   "cell_type": "markdown",
   "id": "d255f682",
   "metadata": {},
   "source": [
    "* **Limitation** : The existing libraries doesnt have the capability of splitting the **compound words** into meaningful words \n",
    "* **Solution** : We need a language aware approach like identifying the kind of concatenations and define a dictionaries of that categories and use the dictionary to split it. "
   ]
  },
  {
   "cell_type": "code",
   "execution_count": 53,
   "id": "3ab43bba",
   "metadata": {},
   "outputs": [],
   "source": [
    "hindi_dict = {\n",
    "    # States\n",
    "    \"आंध्र प्रदेश\", \"अरुणाचल प्रदेश\", \"असम\", \"बिहार\", \"छत्तीसगढ़\",\n",
    "    \"गोवा\", \"गुजरात\", \"हरियाणा\", \"हिमाचल प्रदेश\", \"झारखंड\",\n",
    "    \"कर्नाटक\", \"केरल\", \"मध्य प्रदेश\", \"महाराष्ट्र\", \"मणिपुर\",\n",
    "    \"मेघालय\", \"मिजोरम\", \"नागालैंड\", \"ओडिशा\", \"पंजाब\",\n",
    "    \"राजस्थान\", \"सिक्किम\", \"तमिल नाडु\", \"तेलंगाना\", \"त्रिपुरा\",\n",
    "    \"उत्तर प्रदेश\", \"उत्तराखंड\", \"पश्चिम बंगाल\",\n",
    "    \n",
    "    # Union Territories\n",
    "    \"अंडमान और निकोबार\", \"चंडीगढ़\", \"दादरा और नगर हवेली\", \"दमन और दीव\",\n",
    "    \"दिल्ली\", \"जम्मू और कश्मीर\", \"लद्दाख\", \"लक्षद्वीप\", \"पुडुचेरी\",\n",
    "\n",
    "    # Countries\n",
    "    \"अफ़गानिस्तान\", \"अल्बानिया\", \"अल्जीरिया\", \"अर्जेंटीना\", \"ऑस्ट्रेलिया\",\n",
    "    \"ऑस्ट्रिया\", \"बहरीन\", \"बांग्लादेश\", \"बेलारूस\", \"बेल्जियम\",\n",
    "    \"ब्राज़ील\", \"कनाडा\", \"चीन\", \"मिस्र\", \"फ़्रांस\",\n",
    "    \"जर्मनी\", \"यूनान\", \"हंगरी\", \"भारत\", \"इंडोनेशिया\",\n",
    "    \"ईरान\", \"इराक\", \"आयरलैंड\", \"इज़राइल\", \"इटली\",\n",
    "    \"जापान\", \"केन्या\", \"मलेशिया\", \"मेक्सिको\", \"नेपाल\",\n",
    "    \"नीदरलैंड\", \"नॉर्वे\", \"पाकिस्तान\", \"पेरू\", \"फिलीपींस\",\n",
    "    \"पोलैंड\", \"रूस\", \"सऊदी अरबिया\", \"दक्षिण अफ्रीका\", \"दक्षिण कोरिया\",\n",
    "    \"स्पेन\", \"श्रीलंका\", \"स्वीडन\", \"स्विट्ज़रलैंड\", \"थाईलैंड\",\n",
    "    \"तुर्की\", \"यूक्रेन\", \"संयुक्त अरब अमीरात\", \"यूनाइटेड किंगडम\", \"अमेरिका\",\n",
    "    \"वियतनाम\", \"ज़िम्बाब्वे\",\n",
    "    \n",
    "    # Additional Entries\n",
    "    \"भारत\", \"बेल्जियम\", \"यूनान\", \"मेक्सिको\", \"चेको\", \"स्लोवाकिया\", \"नॉर्वे\", \"ने\",\n",
    "    \"दरलैंड्ज़\", \"इथियोपिया\", \"और\", \"ब्राज़ील\", \"में\"\n",
    "}"
   ]
  },
  {
   "cell_type": "code",
   "execution_count": 58,
   "id": "af1b4444",
   "metadata": {},
   "outputs": [
    {
     "name": "stdout",
     "output_type": "stream",
     "text": [
      "भारत बेल्जियम यूनान मेक्सिको चेको स्लोवाकिया नॉर्वे ने दरलैंड्ज़ इथियोपिया और ब्राज़ील में\n"
     ]
    }
   ],
   "source": [
    "# Use the longest match first approach\n",
    "def split_compound(text, hindi_dict):\n",
    "    words = []\n",
    "    text = text.strip()\n",
    "\n",
    "    while text:\n",
    "        matched = False\n",
    "\n",
    "        for length in range(len(text), 0, -1):  # Start from the largest possible match\n",
    "            part = text[:length]\n",
    "            if part in hindi_dict:\n",
    "                words.append(part)\n",
    "                text = text[length:]  # Remove the matched part\n",
    "                matched = True\n",
    "                break  # Stop as soon as a match is found\n",
    "\n",
    "        if not matched:\n",
    "            # If no match is found, keep the remaining text as a single word\n",
    "            words.append(text)\n",
    "            break\n",
    "\n",
    "    return str(\" \".join(words))\n",
    "\n",
    "input_text = \"भारतबेल्जियमयूनानमेक्सिकोचेकोस्लोवाकियानॉर्वेनेदरलैंड्ज़इथियोपियाऔरब्राज़ीलमें\"\n",
    "split_words = split_compound(input_text, hindi_dict)\n",
    "print(split_words)"
   ]
  },
  {
   "cell_type": "code",
   "execution_count": 59,
   "id": "06a8283b",
   "metadata": {},
   "outputs": [
    {
     "name": "stderr",
     "output_type": "stream",
     "text": [
      "C:\\Users\\masab\\AppData\\Local\\Temp\\ipykernel_16088\\3033079495.py:1: SettingWithCopyWarning: \n",
      "A value is trying to be set on a copy of a slice from a DataFrame.\n",
      "Try using .loc[row_indexer,col_indexer] = value instead\n",
      "\n",
      "See the caveats in the documentation: https://pandas.pydata.org/pandas-docs/stable/user_guide/indexing.html#returning-a-view-versus-a-copy\n",
      "  dataframe[\"segmented_content\"] = dataframe[\"content\"].apply(lambda text: split_compound(text, hindi_dict))\n"
     ]
    }
   ],
   "source": [
    "dataframe[\"segmented_content\"] = dataframe[\"content\"].apply(lambda text: split_compound(text, hindi_dict))"
   ]
  },
  {
   "cell_type": "code",
   "execution_count": 60,
   "id": "50ba70c6",
   "metadata": {},
   "outputs": [
    {
     "data": {
      "text/html": [
       "<div>\n",
       "<style scoped>\n",
       "    .dataframe tbody tr th:only-of-type {\n",
       "        vertical-align: middle;\n",
       "    }\n",
       "\n",
       "    .dataframe tbody tr th {\n",
       "        vertical-align: top;\n",
       "    }\n",
       "\n",
       "    .dataframe thead th {\n",
       "        text-align: right;\n",
       "    }\n",
       "</style>\n",
       "<table border=\"1\" class=\"dataframe\">\n",
       "  <thead>\n",
       "    <tr style=\"text-align: right;\">\n",
       "      <th></th>\n",
       "      <th>url</th>\n",
       "      <th>content</th>\n",
       "      <th>word_count</th>\n",
       "      <th>segmented_content</th>\n",
       "    </tr>\n",
       "  </thead>\n",
       "  <tbody>\n",
       "    <tr>\n",
       "      <th>0</th>\n",
       "      <td>https://hi.wikipedia.org/wiki/%E0%A4%B9%E0%A5%...</td>\n",
       "      <td>हैदराबाद के निज़ामउलमुल्क। इस में किमी का क्षे...</td>\n",
       "      <td>500</td>\n",
       "      <td>हैदराबाद के निज़ामउलमुल्क। इस में किमी का क्षे...</td>\n",
       "    </tr>\n",
       "    <tr>\n",
       "      <th>1</th>\n",
       "      <td>https://hi.wikipedia.org/wiki/%E0%A4%A8%E0%A4%...</td>\n",
       "      <td>मीर क़मरउददीन ख़ान सिद्दिक़ीउर्फ़निजामउलमुल्क ...</td>\n",
       "      <td>384</td>\n",
       "      <td>मीर क़मरउददीन ख़ान सिद्दिक़ीउर्फ़निजामउलमुल्क ...</td>\n",
       "    </tr>\n",
       "    <tr>\n",
       "      <th>2</th>\n",
       "      <td>https://hi.wikipedia.org/wiki/%E0%A4%94%E0%A4%...</td>\n",
       "      <td>ओरंगाबाद भारत राज्यमें स्थित है। यह का भी है औ...</td>\n",
       "      <td>500</td>\n",
       "      <td>ओरंगाबाद भारत राज्यमें स्थित है। यह का भी है औ...</td>\n",
       "    </tr>\n",
       "    <tr>\n",
       "      <th>3</th>\n",
       "      <td>https://hi.wikipedia.org/wiki/%E0%A4%94%E0%A4%...</td>\n",
       "      <td>ओरंगाबाद भारत राज्यमें स्थित है। यह का भी है औ...</td>\n",
       "      <td>500</td>\n",
       "      <td>ओरंगाबाद भारत राज्यमें स्थित है। यह का भी है औ...</td>\n",
       "    </tr>\n",
       "    <tr>\n",
       "      <th>4</th>\n",
       "      <td>https://hi.wikipedia.org/wiki/%E0%A4%AC%E0%A5%...</td>\n",
       "      <td>बीबी के मुग़ल बादशाह औरंगज़ेब इन्होने अंतिम सत...</td>\n",
       "      <td>342</td>\n",
       "      <td>बीबी के मुग़ल बादशाह औरंगज़ेब इन्होने अंतिम सत...</td>\n",
       "    </tr>\n",
       "    <tr>\n",
       "      <th>...</th>\n",
       "      <td>...</td>\n",
       "      <td>...</td>\n",
       "      <td>...</td>\n",
       "      <td>...</td>\n",
       "    </tr>\n",
       "    <tr>\n",
       "      <th>995</th>\n",
       "      <td>https://hi.wikipedia.org/wiki/%E0%A4%AE%E0%A4%...</td>\n",
       "      <td>पर बाद शामिल हुए देश। शक्तियाँयाऐलाइड शक्तियाँ...</td>\n",
       "      <td>173</td>\n",
       "      <td>पर बाद शामिल हुए देश। शक्तियाँयाऐलाइड शक्तियाँ...</td>\n",
       "    </tr>\n",
       "    <tr>\n",
       "      <th>996</th>\n",
       "      <td>https://hi.wikipedia.org/wiki/%E0%A4%A8%E0%A4%...</td>\n",
       "      <td>मैंसीडोनिया मॉन्टेनीग्रो उत्तरी संधि संगठन सैन...</td>\n",
       "      <td>500</td>\n",
       "      <td>मैंसीडोनिया मॉन्टेनीग्रो उत्तरी संधि संगठन सैन...</td>\n",
       "    </tr>\n",
       "    <tr>\n",
       "      <th>997</th>\n",
       "      <td>https://hi.wikipedia.org/wiki/%E0%A4%85%E0%A4%...</td>\n",
       "      <td>अल्बानिया दक्षिणपूर्वयूरोपमें स्थित है।इसकी भू...</td>\n",
       "      <td>500</td>\n",
       "      <td>अल्बानिया  दक्षिणपूर्वयूरोपमें स्थित है।इसकी भ...</td>\n",
       "    </tr>\n",
       "    <tr>\n",
       "      <th>998</th>\n",
       "      <td>https://hi.wikipedia.org/wiki/%E0%A4%85%E0%A4%...</td>\n",
       "      <td>अल्बानिया का ध्वजहै।</td>\n",
       "      <td>4</td>\n",
       "      <td>अल्बानिया  का ध्वजहै।</td>\n",
       "    </tr>\n",
       "    <tr>\n",
       "      <th>999</th>\n",
       "      <td>https://hi.wikipedia.org/wiki/%E0%A4%AE%E0%A5%...</td>\n",
       "      <td>मेसिडोनियनमैसिडोनिया है। यहदक्षिणी समूह का हिस...</td>\n",
       "      <td>38</td>\n",
       "      <td>मेसिडोनियनमैसिडोनिया है। यहदक्षिणी समूह का हिस...</td>\n",
       "    </tr>\n",
       "  </tbody>\n",
       "</table>\n",
       "<p>996 rows × 4 columns</p>\n",
       "</div>"
      ],
      "text/plain": [
       "                                                   url  \\\n",
       "0    https://hi.wikipedia.org/wiki/%E0%A4%B9%E0%A5%...   \n",
       "1    https://hi.wikipedia.org/wiki/%E0%A4%A8%E0%A4%...   \n",
       "2    https://hi.wikipedia.org/wiki/%E0%A4%94%E0%A4%...   \n",
       "3    https://hi.wikipedia.org/wiki/%E0%A4%94%E0%A4%...   \n",
       "4    https://hi.wikipedia.org/wiki/%E0%A4%AC%E0%A5%...   \n",
       "..                                                 ...   \n",
       "995  https://hi.wikipedia.org/wiki/%E0%A4%AE%E0%A4%...   \n",
       "996  https://hi.wikipedia.org/wiki/%E0%A4%A8%E0%A4%...   \n",
       "997  https://hi.wikipedia.org/wiki/%E0%A4%85%E0%A4%...   \n",
       "998  https://hi.wikipedia.org/wiki/%E0%A4%85%E0%A4%...   \n",
       "999  https://hi.wikipedia.org/wiki/%E0%A4%AE%E0%A5%...   \n",
       "\n",
       "                                               content  word_count  \\\n",
       "0    हैदराबाद के निज़ामउलमुल्क। इस में किमी का क्षे...         500   \n",
       "1    मीर क़मरउददीन ख़ान सिद्दिक़ीउर्फ़निजामउलमुल्क ...         384   \n",
       "2    ओरंगाबाद भारत राज्यमें स्थित है। यह का भी है औ...         500   \n",
       "3    ओरंगाबाद भारत राज्यमें स्थित है। यह का भी है औ...         500   \n",
       "4    बीबी के मुग़ल बादशाह औरंगज़ेब इन्होने अंतिम सत...         342   \n",
       "..                                                 ...         ...   \n",
       "995  पर बाद शामिल हुए देश। शक्तियाँयाऐलाइड शक्तियाँ...         173   \n",
       "996  मैंसीडोनिया मॉन्टेनीग्रो उत्तरी संधि संगठन सैन...         500   \n",
       "997  अल्बानिया दक्षिणपूर्वयूरोपमें स्थित है।इसकी भू...         500   \n",
       "998                               अल्बानिया का ध्वजहै।           4   \n",
       "999  मेसिडोनियनमैसिडोनिया है। यहदक्षिणी समूह का हिस...          38   \n",
       "\n",
       "                                     segmented_content  \n",
       "0    हैदराबाद के निज़ामउलमुल्क। इस में किमी का क्षे...  \n",
       "1    मीर क़मरउददीन ख़ान सिद्दिक़ीउर्फ़निजामउलमुल्क ...  \n",
       "2    ओरंगाबाद भारत राज्यमें स्थित है। यह का भी है औ...  \n",
       "3    ओरंगाबाद भारत राज्यमें स्थित है। यह का भी है औ...  \n",
       "4    बीबी के मुग़ल बादशाह औरंगज़ेब इन्होने अंतिम सत...  \n",
       "..                                                 ...  \n",
       "995  पर बाद शामिल हुए देश। शक्तियाँयाऐलाइड शक्तियाँ...  \n",
       "996  मैंसीडोनिया मॉन्टेनीग्रो उत्तरी संधि संगठन सैन...  \n",
       "997  अल्बानिया  दक्षिणपूर्वयूरोपमें स्थित है।इसकी भ...  \n",
       "998                              अल्बानिया  का ध्वजहै।  \n",
       "999  मेसिडोनियनमैसिडोनिया है। यहदक्षिणी समूह का हिस...  \n",
       "\n",
       "[996 rows x 4 columns]"
      ]
     },
     "execution_count": 60,
     "metadata": {},
     "output_type": "execute_result"
    }
   ],
   "source": [
    "dataframe"
   ]
  },
  {
   "cell_type": "code",
   "execution_count": 61,
   "id": "e5037fe7",
   "metadata": {},
   "outputs": [],
   "source": [
    "training_datafile = r\"Training/TrainingReadyHindiData.txt\"\n",
    "\n",
    "if not os.path.exists(training_datafile):\n",
    "    with open(training_datafile, \"w\") as f:\n",
    "        f.write(\"\")\n",
    "\n",
    "with open(training_datafile, \"w\", encoding='utf-8') as f:\n",
    "    for col in dataframe[\"segmented_content\"]:\n",
    "        f.write(col + \"\\n\")  # Write each column name on a new line"
   ]
  }
 ],
 "metadata": {
  "kernelspec": {
   "display_name": "Python (Sarvam.ai)",
   "language": "python",
   "name": "sarvamai"
  },
  "language_info": {
   "codemirror_mode": {
    "name": "ipython",
    "version": 3
   },
   "file_extension": ".py",
   "mimetype": "text/x-python",
   "name": "python",
   "nbconvert_exporter": "python",
   "pygments_lexer": "ipython3",
   "version": "3.10.16"
  }
 },
 "nbformat": 4,
 "nbformat_minor": 5
}
